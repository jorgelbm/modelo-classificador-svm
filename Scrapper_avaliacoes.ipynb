{
  "nbformat": 4,
  "nbformat_minor": 0,
  "metadata": {
    "colab": {
      "provenance": []
    },
    "kernelspec": {
      "name": "python3",
      "display_name": "Python 3"
    },
    "language_info": {
      "name": "python"
    }
  },
  "cells": [
    {
      "cell_type": "markdown",
      "source": [
        "# Coleta das Avaliações de usuários na Google Play Store\n",
        "\n",
        "Esse código será utilizado para obter as avaliações dos usuários nos seguintes apps:\n",
        "- (Jogos de Matemática Português) [https://play.google.com/store/apps/details?id=com.rvappstudios.math.kids.counting]\n",
        "\n",
        "- (Jogos matemática para crianças\n",
        ") [https://play.google.com/store/apps/details?id=com.rvappstudios.montessori.math.games.kids.number.counting]\n",
        "\n",
        "- (Jogos de Matemática - Subtract\n",
        ") [https://play.google.com/store/apps/details?id=simplemath.math.games.subtractiongames.mathgames]\n",
        "\n",
        "- (Jogos de Matemática - Aprender\n",
        ") [https://play.google.com/store/apps/details?id=sensustech.math.games.kids.addition.subtraction.multiplication.division]\n",
        "\n",
        "- (Matemática Divertida (Jogo)\n",
        ") [https://play.google.com/store/apps/details?id=net.speedymind.mental.arithmetic.trainer.learning.games.practice.k5.grade.math.vs.slimes]"
      ],
      "metadata": {
        "id": "cQpztABvoLTo"
      }
    },
    {
      "cell_type": "markdown",
      "source": [
        "\n",
        "## Biblioteca Python Utilizada - google-play-scraper\n",
        "\n",
        "Para realizar esse processo, será utiliza a biblioteca Python google-play-scraper, disponibilizada através do Python Package Index (PyPI) que é um repositório de software para a linguagem de programação Python.\n",
        "\n",
        "Essa biblioteca disponibilza APIs para um fácil acesso aos dados disponíveis na Google Play Store, sem a necessidade de nenhuma dependencia externa.\n",
        "\n",
        "[https://pypi.org/project/google-play-scraper/]\n",
        "\n",
        "Abaixo será feita a instalação dela nesse notebook.\n"
      ],
      "metadata": {
        "id": "Zx-kCY4Qq2U5"
      }
    },
    {
      "cell_type": "code",
      "execution_count": null,
      "metadata": {
        "colab": {
          "base_uri": "https://localhost:8080/"
        },
        "id": "OrjxMpLxn3ao",
        "outputId": "3086e3cc-740f-4f8c-9b81-863fa4dde382"
      },
      "outputs": [
        {
          "output_type": "stream",
          "name": "stdout",
          "text": [
            "Looking in indexes: https://pypi.org/simple, https://us-python.pkg.dev/colab-wheels/public/simple/\n",
            "Collecting google-play-scraper\n",
            "  Downloading google_play_scraper-1.2.4-py3-none-any.whl (28 kB)\n",
            "Installing collected packages: google-play-scraper\n",
            "Successfully installed google-play-scraper-1.2.4\n"
          ]
        }
      ],
      "source": [
        "!pip install google-play-scraper"
      ]
    },
    {
      "cell_type": "markdown",
      "source": [
        "## Obtenção das avaliações - Jogos de Matemática Português\n",
        "### Link: [https://play.google.com/store/apps/details?id=com.rvappstudios.math.kids.counting]\n",
        "### ID: com.rvappstudios.math.kids.counting"
      ],
      "metadata": {
        "id": "O48POx6QsSxO"
      }
    },
    {
      "cell_type": "code",
      "source": [
        "from google_play_scraper import Sort, reviews_all\n",
        "\n",
        "resultApp1 = reviews_all(\n",
        "    'com.rvappstudios.math.kids.counting',\n",
        "    sleep_milliseconds=0, # defaults to 0\n",
        "    lang='pt', # defaults to 'en'\n",
        "    country='br', # defaults to 'us'\n",
        "    sort=Sort.MOST_RELEVANT, # defaults to Sort.MOST_RELEVANT\n",
        "    filter_score_with= None # defaults to None(means all score)\n",
        ")\n",
        "\n",
        "print(len(resultApp1))"
      ],
      "metadata": {
        "colab": {
          "base_uri": "https://localhost:8080/"
        },
        "id": "rZDhFIGPsbLi",
        "outputId": "cd22c7e5-f58d-4bc6-ba34-2da727fbe09a"
      },
      "execution_count": null,
      "outputs": [
        {
          "output_type": "stream",
          "name": "stdout",
          "text": [
            "1063\n"
          ]
        }
      ]
    },
    {
      "cell_type": "markdown",
      "source": [
        "## Obtenção das avaliações - Jogos matemática para crianças\n",
        "### Link: [https://play.google.com/store/apps/details?id=com.rvappstudios.montessori.math.games.kids.number.counting]\n",
        "### ID: com.rvappstudios.montessori.math.games.kids.number.counting"
      ],
      "metadata": {
        "id": "9UoPRid3zvnx"
      }
    },
    {
      "cell_type": "code",
      "source": [
        "from google_play_scraper import Sort, reviews_all\n",
        "\n",
        "resultApp2 = reviews_all(\n",
        "    'com.rvappstudios.montessori.math.games.kids.number.counting',\n",
        "    sleep_milliseconds=0, # defaults to 0\n",
        "    lang='pt', # defaults to 'en'\n",
        "    country='br', # defaults to 'us'\n",
        "    sort=Sort.MOST_RELEVANT, # defaults to Sort.MOST_RELEVANT\n",
        "    filter_score_with= None # defaults to None(means all score)\n",
        ")\n",
        "\n",
        "print(len(resultApp2))"
      ],
      "metadata": {
        "colab": {
          "base_uri": "https://localhost:8080/"
        },
        "id": "NsTXHDSEM02_",
        "outputId": "60b369f9-2196-43a6-f69e-542e0c26608f"
      },
      "execution_count": null,
      "outputs": [
        {
          "output_type": "stream",
          "name": "stdout",
          "text": [
            "48\n"
          ]
        }
      ]
    },
    {
      "cell_type": "markdown",
      "source": [
        "## Obtenção das avaliações - Jogos de Matemática - Subtract\n",
        "### Link: [https://play.google.com/store/apps/details?id=simplemath.math.games.subtractiongames.mathgames]\n",
        "### ID: simplemath.math.games.subtractiongames.mathgames"
      ],
      "metadata": {
        "id": "8Z7riGj3zwFj"
      }
    },
    {
      "cell_type": "code",
      "source": [
        "from google_play_scraper import Sort, reviews_all\n",
        "\n",
        "resultApp3 = reviews_all(\n",
        "    'simplemath.math.games.subtractiongames.mathgames',\n",
        "    sleep_milliseconds=0, # defaults to 0\n",
        "    lang='pt', # defaults to 'en'\n",
        "    country='br', # defaults to 'us'\n",
        "    sort=Sort.MOST_RELEVANT, # defaults to Sort.MOST_RELEVANT\n",
        "    filter_score_with= None # defaults to None(means all score)\n",
        ")\n",
        "\n",
        "print(len(resultApp3))"
      ],
      "metadata": {
        "colab": {
          "base_uri": "https://localhost:8080/"
        },
        "id": "v9XAwwWLM3iX",
        "outputId": "0ddcb7e0-7ef8-4f6d-ffd8-10bad9a02298"
      },
      "execution_count": null,
      "outputs": [
        {
          "output_type": "stream",
          "name": "stdout",
          "text": [
            "551\n"
          ]
        }
      ]
    },
    {
      "cell_type": "markdown",
      "source": [
        "## Obtenção das avaliações - Jogos de Matemática - Aprender\n",
        "### Link: [https://play.google.com/store/apps/details?id=sensustech.math.games.kids.addition.subtraction.multiplication.division]\n",
        "### ID: sensustech.math.games.kids.addition.subtraction.multiplication.division"
      ],
      "metadata": {
        "id": "KqW5CnsmzwoT"
      }
    },
    {
      "cell_type": "code",
      "source": [
        "from google_play_scraper import Sort, reviews_all\n",
        "\n",
        "resultApp4 = reviews_all(\n",
        "    'sensustech.math.games.kids.addition.subtraction.multiplication.division',\n",
        "    sleep_milliseconds=0, # defaults to 0\n",
        "    lang='pt', # defaults to 'en'\n",
        "    country='br', # defaults to 'us'\n",
        "    sort=Sort.MOST_RELEVANT, # defaults to Sort.MOST_RELEVANT\n",
        "    filter_score_with= None # defaults to None(means all score)\n",
        ")\n",
        "\n",
        "print(len(resultApp4))"
      ],
      "metadata": {
        "colab": {
          "base_uri": "https://localhost:8080/"
        },
        "id": "MwgxBe90M5f_",
        "outputId": "a91778fa-8b4d-4a96-8d01-a7c40178931c"
      },
      "execution_count": null,
      "outputs": [
        {
          "output_type": "stream",
          "name": "stdout",
          "text": [
            "146\n"
          ]
        }
      ]
    },
    {
      "cell_type": "markdown",
      "source": [
        "## Obtenção das avaliações - Matemática Divertida (Jogo)\n",
        "### Link: [https://play.google.com/store/apps/details?id=net.speedymind.mental.arithmetic.trainer.learning.games.practice.k5.grade.math.vs.slimes]\n",
        "### ID: net.speedymind.mental.arithmetic.trainer.learning.games.practice.k5.grade.math.vs.slimes"
      ],
      "metadata": {
        "id": "u2WgvqY1zx0q"
      }
    },
    {
      "cell_type": "code",
      "source": [
        "from google_play_scraper import Sort, reviews_all\n",
        "\n",
        "resultApp5 = reviews_all(\n",
        "    'net.speedymind.mental.arithmetic.trainer.learning.games.practice.k5.grade.math.vs.slimes',\n",
        "    sleep_milliseconds=0, # defaults to 0\n",
        "    lang='pt', # defaults to 'en'\n",
        "    country='br', # defaults to 'us'\n",
        "    sort=Sort.MOST_RELEVANT, # defaults to Sort.MOST_RELEVANT\n",
        "    filter_score_with= None # defaults to None(means all score)\n",
        ")\n",
        "\n",
        "print(len(resultApp5))"
      ],
      "metadata": {
        "colab": {
          "base_uri": "https://localhost:8080/"
        },
        "id": "bMy1hxW2M6xi",
        "outputId": "12564a4d-4472-4a45-ea50-4475f697c7e5"
      },
      "execution_count": null,
      "outputs": [
        {
          "output_type": "stream",
          "name": "stdout",
          "text": [
            "366\n"
          ]
        }
      ]
    },
    {
      "cell_type": "markdown",
      "source": [
        "## Utilização do Pandas para criação dos Arquivos CSV\n",
        "\n",
        "Com a Biblioteca Pandas, os dados anteriormente serão alocados em DataFrames para a geração de arquivos CSV contendo todas as avaliações obtidas."
      ],
      "metadata": {
        "id": "fkp5fQXv4vaa"
      }
    },
    {
      "cell_type": "code",
      "source": [
        "\n",
        "import pandas as pd\n",
        "\n",
        "dataFrameApp1 = pd.DataFrame(resultApp1)\n",
        "dataFrameApp2 = pd.DataFrame(resultApp2)\n",
        "dataFrameApp3 = pd.DataFrame(resultApp3)\n",
        "dataFrameApp4 = pd.DataFrame(resultApp4)\n",
        "dataFrameApp5 = pd.DataFrame(resultApp5)"
      ],
      "metadata": {
        "id": "_PTb6rdf5CwX"
      },
      "execution_count": null,
      "outputs": []
    },
    {
      "cell_type": "code",
      "source": [
        "dataFrameAllApps = pd.concat([dataFrameApp1, dataFrameApp2, dataFrameApp3, dataFrameApp4, dataFrameApp5], ignore_index=True)\n"
      ],
      "metadata": {
        "id": "oYDKMqAo6COK"
      },
      "execution_count": null,
      "outputs": []
    },
    {
      "cell_type": "code",
      "source": [
        "dataFrameAllApps.to_csv('avaliacoes_todos_apps.csv', index=False)"
      ],
      "metadata": {
        "id": "cwZhSpw68N-F"
      },
      "execution_count": null,
      "outputs": []
    },
    {
      "cell_type": "markdown",
      "source": [
        "### Contagem de quantas avaliações por nota existem - Todos os Aplicativos"
      ],
      "metadata": {
        "id": "BljcZTEu--TG"
      }
    },
    {
      "cell_type": "code",
      "source": [
        "# 1 Estrela\n",
        "avaliaçõesComUmaEstrelas = dataFrameAllApps['score'].value_counts()[1]\n",
        "\n",
        "# 2 Estrelas\n",
        "avaliaçõesComDuasEstrelas = dataFrameAllApps['score'].value_counts()[2]\n",
        "\n",
        "# 3 Estrelas\n",
        "avaliaçõesComTresEstrelas = dataFrameAllApps['score'].value_counts()[3]\n",
        "\n",
        "# 4 Estrelas\n",
        "avaliaçõesComQuatroEstrelas = dataFrameAllApps['score'].value_counts()[4]\n",
        "\n",
        "# 5 Estrelas\n",
        "avaliaçõesComCincoEstrelas = dataFrameAllApps['score'].value_counts()[5]"
      ],
      "metadata": {
        "id": "R8dSPtZF8NZU"
      },
      "execution_count": null,
      "outputs": []
    },
    {
      "cell_type": "code",
      "source": [
        "print(\"1 Estrela - Total:\", avaliaçõesComUmaEstrelas)\n",
        "print(\"2 Estrelas - Total:\", avaliaçõesComDuasEstrelas)\n",
        "print(\"3 Estrelas - Total:\", avaliaçõesComTresEstrelas)\n",
        "print(\"4 Estrelas - Total:\", avaliaçõesComQuatroEstrelas)\n",
        "print(\"5 Estrelas - Total:\", avaliaçõesComCincoEstrelas)\n",
        "print(\"Todas Estrelas - Total:\", avaliaçõesComUmaEstrelas + avaliaçõesComDuasEstrelas + avaliaçõesComTresEstrelas + avaliaçõesComQuatroEstrelas + avaliaçõesComCincoEstrelas)"
      ],
      "metadata": {
        "colab": {
          "base_uri": "https://localhost:8080/"
        },
        "id": "ZU5VX4imAGIY",
        "outputId": "7e2f46ea-7208-4d55-b5be-2a76aa2cb170"
      },
      "execution_count": null,
      "outputs": [
        {
          "output_type": "stream",
          "name": "stdout",
          "text": [
            "1 Estrela - Total: 188\n",
            "2 Estrelas - Total: 40\n",
            "3 Estrelas - Total: 64\n",
            "4 Estrelas - Total: 125\n",
            "5 Estrelas - Total: 1757\n",
            "Todas Estrelas - Total: 2174\n"
          ]
        }
      ]
    },
    {
      "cell_type": "markdown",
      "source": [
        "### Contagem de quantas avaliações por nota existem - Jogos de Matemática Português"
      ],
      "metadata": {
        "id": "inn0FNhAFh8Z"
      }
    },
    {
      "cell_type": "code",
      "source": [
        "# 1 Estrela\n",
        "avaliaçõesComUmaEstrelasApp1 = dataFrameApp1['score'].value_counts()[1]\n",
        "\n",
        "# 2 Estrelas\n",
        "avaliaçõesComDuasEstrelasApp1 = dataFrameApp1['score'].value_counts()[2]\n",
        "\n",
        "# 3 Estrelas\n",
        "avaliaçõesComTresEstrelasApp1 = dataFrameApp1['score'].value_counts()[3]\n",
        "\n",
        "# 4 Estrelas\n",
        "avaliaçõesComQuatroEstrelasApp1 = dataFrameApp1['score'].value_counts()[4]\n",
        "\n",
        "# 5 Estrelas\n",
        "avaliaçõesComCincoEstrelasApp1 = dataFrameApp1['score'].value_counts()[5]"
      ],
      "metadata": {
        "id": "H9nuuAjzF-t0"
      },
      "execution_count": null,
      "outputs": []
    },
    {
      "cell_type": "code",
      "source": [
        "print(\"1 Estrela - Total:\", avaliaçõesComUmaEstrelasApp1)\n",
        "print(\"2 Estrelas - Total:\", avaliaçõesComDuasEstrelasApp1)\n",
        "print(\"3 Estrelas - Total:\", avaliaçõesComTresEstrelasApp1)\n",
        "print(\"4 Estrelas - Total:\", avaliaçõesComQuatroEstrelasApp1)\n",
        "print(\"5 Estrelas - Total:\", avaliaçõesComCincoEstrelasApp1)\n",
        "print(\"Todas Estrelas - Total:\", avaliaçõesComUmaEstrelasApp1 + avaliaçõesComDuasEstrelasApp1 + avaliaçõesComTresEstrelasApp1 + avaliaçõesComQuatroEstrelasApp1 + avaliaçõesComCincoEstrelasApp1)"
      ],
      "metadata": {
        "colab": {
          "base_uri": "https://localhost:8080/"
        },
        "id": "0vyE1QVIGROS",
        "outputId": "d4d5de89-1c30-4a90-8b55-9d13f1de883e"
      },
      "execution_count": null,
      "outputs": [
        {
          "output_type": "stream",
          "name": "stdout",
          "text": [
            "1 Estrela - Total: 135\n",
            "2 Estrelas - Total: 22\n",
            "3 Estrelas - Total: 35\n",
            "4 Estrelas - Total: 61\n",
            "5 Estrelas - Total: 810\n",
            "Todas Estrelas - Total: 1063\n"
          ]
        }
      ]
    },
    {
      "cell_type": "markdown",
      "source": [
        "### Contagem de quantas avaliações por nota existem - Jogos matemática para crianças"
      ],
      "metadata": {
        "id": "cgsED8nCFnwj"
      }
    },
    {
      "cell_type": "code",
      "source": [
        "# 1 Estrela\n",
        "avaliaçõesComUmaEstrelasApp2 = dataFrameApp2['score'].value_counts()[1]\n",
        "\n",
        "# 2 Estrelas\n",
        "avaliaçõesComDuasEstrelasApp2 = dataFrameApp2['score'].value_counts()[2]\n",
        "\n",
        "# 3 Estrelas\n",
        "avaliaçõesComTresEstrelasApp2 = dataFrameApp2['score'].value_counts()[3]\n",
        "\n",
        "# 4 Estrelas\n",
        "avaliaçõesComQuatroEstrelasApp2 = dataFrameApp2['score'].value_counts()[4]\n",
        "\n",
        "# 5 Estrelas\n",
        "avaliaçõesComCincoEstrelasApp2 = dataFrameApp2['score'].value_counts()[5]"
      ],
      "metadata": {
        "id": "xZG6lcLdHFZN"
      },
      "execution_count": null,
      "outputs": []
    },
    {
      "cell_type": "code",
      "source": [
        "print(\"1 Estrela - Total:\", avaliaçõesComUmaEstrelasApp2)\n",
        "print(\"2 Estrelas - Total:\", avaliaçõesComDuasEstrelasApp2)\n",
        "print(\"3 Estrelas - Total:\", avaliaçõesComTresEstrelasApp2)\n",
        "print(\"4 Estrelas - Total:\", avaliaçõesComQuatroEstrelasApp2)\n",
        "print(\"5 Estrelas - Total:\", avaliaçõesComCincoEstrelasApp2)\n",
        "print(\"Todas Estrelas - Total:\", avaliaçõesComUmaEstrelasApp2 + avaliaçõesComDuasEstrelasApp2 + avaliaçõesComTresEstrelasApp2 + avaliaçõesComQuatroEstrelasApp2 + avaliaçõesComCincoEstrelasApp2)"
      ],
      "metadata": {
        "colab": {
          "base_uri": "https://localhost:8080/"
        },
        "id": "a9qaexFbHGOs",
        "outputId": "305b946e-0831-4cec-9d3f-77a4e5ad5ece"
      },
      "execution_count": null,
      "outputs": [
        {
          "output_type": "stream",
          "name": "stdout",
          "text": [
            "1 Estrela - Total: 2\n",
            "2 Estrelas - Total: 3\n",
            "3 Estrelas - Total: 2\n",
            "4 Estrelas - Total: 5\n",
            "5 Estrelas - Total: 36\n",
            "Todas Estrelas - Total: 48\n"
          ]
        }
      ]
    },
    {
      "cell_type": "markdown",
      "source": [
        "### Contagem de quantas avaliações por nota existem - Jogos de Matemática - Subtract"
      ],
      "metadata": {
        "id": "eSDwmFGeFoW1"
      }
    },
    {
      "cell_type": "code",
      "source": [
        "# 1 Estrela\n",
        "avaliaçõesComUmaEstrelasApp3 = dataFrameApp3['score'].value_counts()[1]\n",
        "\n",
        "# 2 Estrelas\n",
        "avaliaçõesComDuasEstrelasApp3 = dataFrameApp3['score'].value_counts()[2]\n",
        "\n",
        "# 3 Estrelas\n",
        "avaliaçõesComTresEstrelasApp3 = dataFrameApp3['score'].value_counts()[3]\n",
        "\n",
        "# 4 Estrelas\n",
        "avaliaçõesComQuatroEstrelasApp3 = dataFrameApp3['score'].value_counts()[4]\n",
        "\n",
        "# 5 Estrelas\n",
        "avaliaçõesComCincoEstrelasApp3 = dataFrameApp3['score'].value_counts()[5]"
      ],
      "metadata": {
        "id": "EwnSctwEHdb5"
      },
      "execution_count": null,
      "outputs": []
    },
    {
      "cell_type": "code",
      "source": [
        "print(\"1 Estrela - Total:\", avaliaçõesComUmaEstrelasApp3)\n",
        "print(\"2 Estrelas - Total:\", avaliaçõesComDuasEstrelasApp3)\n",
        "print(\"3 Estrelas - Total:\", avaliaçõesComTresEstrelasApp3)\n",
        "print(\"4 Estrelas - Total:\", avaliaçõesComQuatroEstrelasApp3)\n",
        "print(\"5 Estrelas - Total:\", avaliaçõesComCincoEstrelasApp3)\n",
        "print(\"Todas Estrelas - Total:\", avaliaçõesComUmaEstrelasApp3 + avaliaçõesComDuasEstrelasApp3 + avaliaçõesComTresEstrelasApp3 + avaliaçõesComQuatroEstrelasApp3 + avaliaçõesComCincoEstrelasApp3)"
      ],
      "metadata": {
        "colab": {
          "base_uri": "https://localhost:8080/"
        },
        "id": "bQUwlRexHeHt",
        "outputId": "b8deb02d-0642-4b15-97ae-f8030821558e"
      },
      "execution_count": null,
      "outputs": [
        {
          "output_type": "stream",
          "name": "stdout",
          "text": [
            "1 Estrela - Total: 29\n",
            "2 Estrelas - Total: 6\n",
            "3 Estrelas - Total: 16\n",
            "4 Estrelas - Total: 19\n",
            "5 Estrelas - Total: 481\n",
            "Todas Estrelas - Total: 551\n"
          ]
        }
      ]
    },
    {
      "cell_type": "markdown",
      "source": [
        "### Contagem de quantas avaliações por nota existem - Jogos de Matemática - Aprender"
      ],
      "metadata": {
        "id": "vywhJeqVFo1X"
      }
    },
    {
      "cell_type": "code",
      "source": [
        "# 1 Estrela\n",
        "avaliaçõesComUmaEstrelasApp4 = dataFrameApp4['score'].value_counts()[1]\n",
        "\n",
        "# 2 Estrelas\n",
        "avaliaçõesComDuasEstrelasApp4 = dataFrameApp4['score'].value_counts()[2]\n",
        "\n",
        "# 3 Estrelas\n",
        "avaliaçõesComTresEstrelasApp4 = dataFrameApp4['score'].value_counts()[3]\n",
        "\n",
        "# 4 Estrelas\n",
        "avaliaçõesComQuatroEstrelasApp4 = dataFrameApp4['score'].value_counts()[4]\n",
        "\n",
        "# 5 Estrelas\n",
        "avaliaçõesComCincoEstrelasApp4 = dataFrameApp4['score'].value_counts()[5]"
      ],
      "metadata": {
        "id": "MsXKuHnMH9k3"
      },
      "execution_count": null,
      "outputs": []
    },
    {
      "cell_type": "code",
      "source": [
        "print(\"1 Estrela - Total:\", avaliaçõesComUmaEstrelasApp4)\n",
        "print(\"2 Estrelas - Total:\", avaliaçõesComDuasEstrelasApp4)\n",
        "print(\"3 Estrelas - Total:\", avaliaçõesComTresEstrelasApp4)\n",
        "print(\"4 Estrelas - Total:\", avaliaçõesComQuatroEstrelasApp4)\n",
        "print(\"5 Estrelas - Total:\", avaliaçõesComCincoEstrelasApp4)\n",
        "print(\"Todas Estrelas - Total:\", avaliaçõesComUmaEstrelasApp4 + avaliaçõesComDuasEstrelasApp4 + avaliaçõesComTresEstrelasApp4 + avaliaçõesComQuatroEstrelasApp4 + avaliaçõesComCincoEstrelasApp4)"
      ],
      "metadata": {
        "colab": {
          "base_uri": "https://localhost:8080/"
        },
        "id": "uOMZIlNDICqQ",
        "outputId": "4dce1dd5-0d04-4162-a37b-c3533989bc24"
      },
      "execution_count": null,
      "outputs": [
        {
          "output_type": "stream",
          "name": "stdout",
          "text": [
            "1 Estrela - Total: 11\n",
            "2 Estrelas - Total: 5\n",
            "3 Estrelas - Total: 5\n",
            "4 Estrelas - Total: 15\n",
            "5 Estrelas - Total: 110\n",
            "Todas Estrelas - Total: 146\n"
          ]
        }
      ]
    },
    {
      "cell_type": "markdown",
      "source": [
        "### Contagem de quantas avaliações por nota existem - Matemática Divertida (Jogo)"
      ],
      "metadata": {
        "id": "Jq2c7wBpFp4D"
      }
    },
    {
      "cell_type": "code",
      "source": [
        "# 1 Estrela\n",
        "avaliaçõesComUmaEstrelasApp5 = dataFrameApp5['score'].value_counts()[1]\n",
        "\n",
        "# 2 Estrelas\n",
        "avaliaçõesComDuasEstrelasApp5 = dataFrameApp5['score'].value_counts()[2]\n",
        "\n",
        "# 3 Estrelas\n",
        "avaliaçõesComTresEstrelasApp5 = dataFrameApp5['score'].value_counts()[3]\n",
        "\n",
        "# 4 Estrelas\n",
        "avaliaçõesComQuatroEstrelasApp5 = dataFrameApp5['score'].value_counts()[4]\n",
        "\n",
        "# 5 Estrelas\n",
        "avaliaçõesComCincoEstrelasApp5 = dataFrameApp5['score'].value_counts()[5]"
      ],
      "metadata": {
        "id": "73jTrnFjIXsC"
      },
      "execution_count": null,
      "outputs": []
    },
    {
      "cell_type": "code",
      "source": [
        "print(\"1 Estrela - Total:\", avaliaçõesComUmaEstrelasApp5)\n",
        "print(\"2 Estrelas - Total:\", avaliaçõesComDuasEstrelasApp5)\n",
        "print(\"3 Estrelas - Total:\", avaliaçõesComTresEstrelasApp5)\n",
        "print(\"4 Estrelas - Total:\", avaliaçõesComQuatroEstrelasApp5)\n",
        "print(\"5 Estrelas - Total:\", avaliaçõesComCincoEstrelasApp5)\n",
        "print(\"Todas Estrelas - Total:\", avaliaçõesComUmaEstrelasApp5 + avaliaçõesComDuasEstrelasApp5 + avaliaçõesComTresEstrelasApp5 + avaliaçõesComQuatroEstrelasApp5 + avaliaçõesComCincoEstrelasApp5)"
      ],
      "metadata": {
        "colab": {
          "base_uri": "https://localhost:8080/"
        },
        "id": "ehVbEX5oIYnH",
        "outputId": "ffe70183-cd61-4a0d-9f94-20f092aeca54"
      },
      "execution_count": null,
      "outputs": [
        {
          "output_type": "stream",
          "name": "stdout",
          "text": [
            "1 Estrela - Total: 11\n",
            "2 Estrelas - Total: 4\n",
            "3 Estrelas - Total: 6\n",
            "4 Estrelas - Total: 25\n",
            "5 Estrelas - Total: 320\n",
            "Todas Estrelas - Total: 366\n"
          ]
        }
      ]
    }
  ]
}